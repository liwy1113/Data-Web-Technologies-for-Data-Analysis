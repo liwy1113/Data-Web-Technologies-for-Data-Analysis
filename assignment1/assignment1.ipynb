{
 "cells": [
  {
   "cell_type": "markdown",
   "metadata": {},
   "source": [
    "## Part 1: The Doomsday Algorithm\n",
    "\n",
    "The Doomsday algorithm, devised by mathematician J. H. Conway, computes the day of the week any given date fell on. The algorithm is designed to be simple enough to memorize and use for mental calculation.\n",
    "\n",
    "__Example.__ With the algorithm, we can compute that July 4, 1776 (the day the United States declared independence from Great Britain) was a Thursday.\n",
    "\n",
    "The algorithm is based on the fact that for any year, several dates always fall on the same day of the week, called the <em style=\"color:#F00\">doomsday</em> for the year. These dates include 4/4, 6/6, 8/8, 10/10, and 12/12.\n",
    "\n",
    "__Example.__ The doomsday for 2016 is Monday, so in 2016 the dates above all fell on Mondays. The doomsday for 2017 is Tuesday, so in 2017 the dates above will all fall on Tuesdays.\n",
    "\n",
    "The doomsday algorithm has three major steps:\n",
    "\n",
    "1. Compute the anchor day for the target century.\n",
    "2. Compute the doomsday for the target year based on the anchor day.\n",
    "3. Determine the day of week for the target date by counting the number of days to the nearest doomsday.\n",
    "\n",
    "Each step is explained in detail below."
   ]
  },
  {
   "cell_type": "markdown",
   "metadata": {},
   "source": [
    "### The Anchor Day\n",
    "\n",
    "The doomsday for the first year in a century is called the <em style=\"color:#F00\">anchor day</em> for that century. The anchor day is needed to compute the doomsday for any other year in that century. The anchor day for a century $c$ can be computed with the formula:\n",
    "$$\n",
    "a = \\bigl( 5 (c \\bmod 4) + 2 \\bigr) \\bmod 7\n",
    "$$\n",
    "The result $a$ corresponds to a day of the week, starting with $0$ for Sunday and ending with $6$ for Saturday.\n",
    "\n",
    "__Note.__ The modulo operation $(x \\bmod y)$ finds the remainder after dividing $x$ by $y$. For instance, $12 \\bmod 3 = 0$ since the remainder after dividing $12$ by $3$ is $0$. Similarly, $11 \\bmod 7 = 4$, since the remainder after dividing $11$ by $7$ is $4$.\n",
    "\n",
    "__Example.__ Suppose the target year is 1954, so the century is $c = 19$. Plugging this into the formula gives\n",
    "$$a = \\bigl( 5 (19 \\bmod 4) + 2 \\bigr) \\bmod 7 = \\bigl( 5(3) + 2 \\bigr) \\bmod 7 = 3.$$\n",
    "In other words, the anchor day for 1900-1999 is Wednesday, which is also the doomsday for 1900.\n",
    "\n",
    "__Exercise 1.1.__ Write a function that accepts a year as input and computes the anchor day for that year's century. The modulo operator `%` and functions in the `math` module may be useful. Document your function with a docstring and test your function for a few different years.  Do this in a new cell below this one."
   ]
  },
  {
   "cell_type": "code",
   "execution_count": 287,
   "metadata": {
    "collapsed": true
   },
   "outputs": [],
   "source": [
    "import math\n",
    "def cal_anchor(year):\n",
    "    \"\"\"compute the anchor day for the imput year's century, the result corresponds to a day \n",
    "       of the week, starting with 0 for Sunday and ending with 6 for Saturday\"\"\"\n",
    "    century = int(str(year)[:2])\n",
    "    anchor_day = (5*(century%4)+2)%7\n",
    "    return anchor_day"
   ]
  },
  {
   "cell_type": "code",
   "execution_count": 288,
   "metadata": {
    "collapsed": false
   },
   "outputs": [
    {
     "data": {
      "text/plain": [
       "3"
      ]
     },
     "execution_count": 288,
     "metadata": {},
     "output_type": "execute_result"
    }
   ],
   "source": [
    "cal_anchor(1954)"
   ]
  },
  {
   "cell_type": "code",
   "execution_count": 289,
   "metadata": {
    "collapsed": false
   },
   "outputs": [
    {
     "data": {
      "text/plain": [
       "2"
      ]
     },
     "execution_count": 289,
     "metadata": {},
     "output_type": "execute_result"
    }
   ],
   "source": [
    "cal_anchor(2016)"
   ]
  },
  {
   "cell_type": "code",
   "execution_count": 290,
   "metadata": {
    "collapsed": false
   },
   "outputs": [
    {
     "data": {
      "text/plain": [
       "0"
      ]
     },
     "execution_count": 290,
     "metadata": {},
     "output_type": "execute_result"
    }
   ],
   "source": [
    "cal_anchor(1776)"
   ]
  },
  {
   "cell_type": "markdown",
   "metadata": {},
   "source": [
    "### The Doomsday\n",
    "\n",
    "Once the anchor day is known, let $y$ be the last two digits of the target year. Then the doomsday for the target year can be computed with the formula:\n",
    "$$d = \\left(y + \\left\\lfloor\\frac{y}{4}\\right\\rfloor + a\\right) \\bmod 7$$\n",
    "The result $d$ corresponds to a day of the week.\n",
    "\n",
    "__Note.__ The floor operation $\\lfloor x \\rfloor$ rounds $x$ down to the nearest integer. For instance, $\\lfloor 3.1 \\rfloor = 3$ and $\\lfloor 3.8 \\rfloor = 3$.\n",
    "\n",
    "__Example.__ Again suppose the target year is 1954. Then the anchor day is $a = 3$, and $y = 54$, so the formula gives\n",
    "$$\n",
    "d = \\left(54 + \\left\\lfloor\\frac{54}{4}\\right\\rfloor + 3\\right) \\bmod 7 = (54 + 13 + 3) \\bmod 7 = 0.\n",
    "$$\n",
    "Thus the doomsday for 1954 is Sunday.\n",
    "\n",
    "__Exercise 1.2.__ Write a function that accepts a year as input and computes the doomsday for that year. Your function may need to call the function you wrote in exercise 1.1. Make sure to document and test your function."
   ]
  },
  {
   "cell_type": "code",
   "execution_count": 291,
   "metadata": {
    "collapsed": true
   },
   "outputs": [],
   "source": [
    "def cal_dooms(year):\n",
    "    \"\"\"compute the doomsday for the input year, the result corresponds to a day \n",
    "       of the week, starting with 0 for Sunday and ending with 6 for Saturday\"\"\"\n",
    "    last2 = int(str(year)[2:4])\n",
    "    anchor = cal_anchor(year)\n",
    "    dooms = (last2+int(math.floor(last2/4))+anchor)%7\n",
    "    return dooms"
   ]
  },
  {
   "cell_type": "code",
   "execution_count": 292,
   "metadata": {
    "collapsed": false,
    "scrolled": true
   },
   "outputs": [
    {
     "data": {
      "text/plain": [
       "0"
      ]
     },
     "execution_count": 292,
     "metadata": {},
     "output_type": "execute_result"
    }
   ],
   "source": [
    "cal_dooms(1954)"
   ]
  },
  {
   "cell_type": "code",
   "execution_count": 293,
   "metadata": {
    "collapsed": false
   },
   "outputs": [
    {
     "data": {
      "text/plain": [
       "1"
      ]
     },
     "execution_count": 293,
     "metadata": {},
     "output_type": "execute_result"
    }
   ],
   "source": [
    "cal_dooms(2016)"
   ]
  },
  {
   "cell_type": "code",
   "execution_count": 294,
   "metadata": {
    "collapsed": false
   },
   "outputs": [
    {
     "data": {
      "text/plain": [
       "4"
      ]
     },
     "execution_count": 294,
     "metadata": {},
     "output_type": "execute_result"
    }
   ],
   "source": [
    "cal_dooms(1776)"
   ]
  },
  {
   "cell_type": "markdown",
   "metadata": {},
   "source": [
    "### The Day of Week\n",
    "\n",
    "The final step in the Doomsday algorithm is to count the number of days between the target date and a nearby doomsday, modulo 7. This gives the day of the week.\n",
    "\n",
    "Every month has at least one doomsday:\n",
    "* (regular years) 1/10, 2/28\n",
    "* (leap years) 1/11, 2/29\n",
    "* 3/21, 4/4, 5/9, 6/6, 7/11, 8/8, 9/5, 10/10, 11/7, 12/12\n",
    "\n",
    "__Example.__ Suppose we want to find the day of the week for 7/21/1954. The doomsday for 1954 is Sunday, and a nearby doomsday is 7/11. There are 10 days in July between 7/11 and 7/21. Since $10 \\bmod 7 = 3$, the date 7/21/1954 falls 3 days after a Sunday, on a Wednesday.\n",
    "\n",
    "__Exercise 1.3.__ Write a function to determine the day of the week for a given day, month, and year. Be careful of leap years! Your function should return a string such as \"Thursday\" rather than a number. As usual, document and test your code."
   ]
  },
  {
   "cell_type": "code",
   "execution_count": 295,
   "metadata": {
    "collapsed": false
   },
   "outputs": [
    {
     "name": "stdout",
     "output_type": "stream",
     "text": [
      "True\n"
     ]
    }
   ],
   "source": [
    "import calendar\n",
    "print calendar.isleap(2000)"
   ]
  },
  {
   "cell_type": "code",
   "execution_count": 296,
   "metadata": {
    "collapsed": false
   },
   "outputs": [],
   "source": [
    "def cal_days(day, month, year):\n",
    "    \"\"\"calculate the day of the week for a given day, month and year based on the doomsday\"\"\"\n",
    "    dooms = cal_dooms(year)\n",
    "    leapyear = [11,29,21,4,9,6,11,8,5,10,7,12]\n",
    "    regularyear = [10,28,21,4,9,6,11,8,5,10,7,12]\n",
    "    if not calendar.isleap(year):\n",
    "        ind = (day-regularyear[month-1]+dooms)%7 \n",
    "    if calendar.isleap(year):\n",
    "        ind = (day-leapyear[month-1]+dooms)%7\n",
    "    weekday = [\"Sunday\", \"Monday\", \"Tuesday\",\"Wednesday\",\"Thursday\",\"Friday\",\"Saturday\"]\n",
    "    return weekday[ind]"
   ]
  },
  {
   "cell_type": "code",
   "execution_count": 297,
   "metadata": {
    "collapsed": false
   },
   "outputs": [
    {
     "data": {
      "text/plain": [
       "'Wednesday'"
      ]
     },
     "execution_count": 297,
     "metadata": {},
     "output_type": "execute_result"
    }
   ],
   "source": [
    "cal_days(21,7,1954)"
   ]
  },
  {
   "cell_type": "code",
   "execution_count": 298,
   "metadata": {
    "collapsed": false
   },
   "outputs": [
    {
     "data": {
      "text/plain": [
       "'Sunday'"
      ]
     },
     "execution_count": 298,
     "metadata": {},
     "output_type": "execute_result"
    }
   ],
   "source": [
    "cal_days(13,11,2016)"
   ]
  },
  {
   "cell_type": "code",
   "execution_count": 299,
   "metadata": {
    "collapsed": false
   },
   "outputs": [
    {
     "data": {
      "text/plain": [
       "'Tuesday'"
      ]
     },
     "execution_count": 299,
     "metadata": {},
     "output_type": "execute_result"
    }
   ],
   "source": [
    "cal_days(10,8,1954)"
   ]
  },
  {
   "cell_type": "markdown",
   "metadata": {},
   "source": [
    "__Exercise 1.4.__ How many times did Friday the 13th occur in the years 1900-1999? Does this number seem to be similar to other centuries?"
   ]
  },
  {
   "cell_type": "code",
   "execution_count": 300,
   "metadata": {
    "collapsed": true
   },
   "outputs": [],
   "source": [
    "def tol_year(century):\n",
    "    year = []\n",
    "    for i in range(100):\n",
    "        year.append(int(str(century)+'00')+i)\n",
    "    return year"
   ]
  },
  {
   "cell_type": "code",
   "execution_count": 301,
   "metadata": {
    "collapsed": false
   },
   "outputs": [],
   "source": [
    "def countFri(century):\n",
    "    count = 0\n",
    "    year = tol_year(century)\n",
    "    for i in year:\n",
    "        for j in range(1,13):\n",
    "            if cal_day(13, j, i) == \"Friday\":\n",
    "                count = count + 1\n",
    "    return count           "
   ]
  },
  {
   "cell_type": "code",
   "execution_count": 302,
   "metadata": {
    "collapsed": false
   },
   "outputs": [
    {
     "data": {
      "text/plain": [
       "172"
      ]
     },
     "execution_count": 302,
     "metadata": {},
     "output_type": "execute_result"
    }
   ],
   "source": [
    "countFri(19)"
   ]
  },
  {
   "cell_type": "code",
   "execution_count": 303,
   "metadata": {
    "collapsed": false
   },
   "outputs": [
    {
     "data": {
      "text/plain": [
       "172"
      ]
     },
     "execution_count": 303,
     "metadata": {},
     "output_type": "execute_result"
    }
   ],
   "source": [
    "countFri(20)"
   ]
  },
  {
   "cell_type": "code",
   "execution_count": 304,
   "metadata": {
    "collapsed": false
   },
   "outputs": [
    {
     "data": {
      "text/plain": [
       "172"
      ]
     },
     "execution_count": 304,
     "metadata": {},
     "output_type": "execute_result"
    }
   ],
   "source": [
    "countFri(21)"
   ]
  },
  {
   "cell_type": "markdown",
   "metadata": {},
   "source": [
    "<p>The number is similar to other centuries.</p>"
   ]
  },
  {
   "cell_type": "markdown",
   "metadata": {},
   "source": [
    "__Exercise 1.5.__ How many times did Friday the 13th occur between the year 2000 and today?"
   ]
  },
  {
   "cell_type": "code",
   "execution_count": 305,
   "metadata": {
    "collapsed": false
   },
   "outputs": [],
   "source": [
    "def count_Friday(day, month, year):\n",
    "    \"\"\"calculate the number that Friday the 13th occur between the year 2000 and today\"\"\"\n",
    "    count = 0\n",
    "    for i in range(2000, year):\n",
    "        for j in range(1,13):\n",
    "            if cal_day(13, j, i) == \"Friday\":\n",
    "                count = count + 1\n",
    "    for k in range(1, month +1):\n",
    "        if cal_day(13, k, year) == \"Friday\":\n",
    "            count = count + 1\n",
    "    return count"
   ]
  },
  {
   "cell_type": "code",
   "execution_count": 306,
   "metadata": {
    "collapsed": false
   },
   "outputs": [
    {
     "data": {
      "text/plain": [
       "30"
      ]
     },
     "execution_count": 306,
     "metadata": {},
     "output_type": "execute_result"
    }
   ],
   "source": [
    "count_Friday(22, 1, 2017)"
   ]
  },
  {
   "cell_type": "markdown",
   "metadata": {},
   "source": [
    "## Part 2: 1978 Birthdays\n",
    "\n",
    "__Exercise 2.1.__ The file `birthdays.txt` contains the number of births in the United States for each day in 1978. Inspect the file to determine the format. Note that columns are separated by the tab character, which can be entered in Python as `\\t`. Write a function that uses iterators and list comprehensions with the string methods `split()` and `strip()` to  convert each line of data to the list format\n",
    "\n",
    "```Python\n",
    "[month, day, year, count]\n",
    "```\n",
    "The elements of this list should be integers, not strings. The function `read_birthdays` provided below will help you load the file."
   ]
  },
  {
   "cell_type": "code",
   "execution_count": 314,
   "metadata": {
    "collapsed": true
   },
   "outputs": [],
   "source": [
    "def read_birthdays(file_path):\n",
    "    \"\"\"Read the contents of the birthdays file into a string.\n",
    "    \n",
    "    Arguments:\n",
    "        file_path (string): The path to the birthdays file.\n",
    "        \n",
    "    Returns:\n",
    "        string: The contents of the birthdays file.\n",
    "    \"\"\"\n",
    "    with open(file_path) as file:\n",
    "        return file.read()"
   ]
  },
  {
   "cell_type": "code",
   "execution_count": 315,
   "metadata": {
    "collapsed": false
   },
   "outputs": [],
   "source": [
    "def birth(file_path):\n",
    "    data = read_birthdays(file_path)[127:]\n",
    "    data = data.split('\\n')[:365]\n",
    "    birth = [i.split('/') for i in data]\n",
    "    for item in birth:\n",
    "        item.append(item[2].translate(None,'\\t')[2:])\n",
    "        item[2] = 1978\n",
    "    bd = [map(int,item) for item in birth]\n",
    "    return bd"
   ]
  },
  {
   "cell_type": "code",
   "execution_count": 316,
   "metadata": {
    "collapsed": false
   },
   "outputs": [
    {
     "data": {
      "text/plain": [
       "[[1, 1, 1978, 7701],\n",
       " [1, 2, 1978, 7527],\n",
       " [1, 3, 1978, 8825],\n",
       " [1, 4, 1978, 8859],\n",
       " [1, 5, 1978, 9043],\n",
       " [1, 6, 1978, 9208],\n",
       " [1, 7, 1978, 8084],\n",
       " [1, 8, 1978, 7611],\n",
       " [1, 9, 1978, 9172],\n",
       " [1, 10, 1978, 9089],\n",
       " [1, 11, 1978, 9210],\n",
       " [1, 12, 1978, 9259],\n",
       " [1, 13, 1978, 9138],\n",
       " [1, 14, 1978, 8299],\n",
       " [1, 15, 1978, 7771],\n",
       " [1, 16, 1978, 9458],\n",
       " [1, 17, 1978, 9339],\n",
       " [1, 18, 1978, 9120],\n",
       " [1, 19, 1978, 9226],\n",
       " [1, 20, 1978, 9305],\n",
       " [1, 21, 1978, 7954],\n",
       " [1, 22, 1978, 7560],\n",
       " [1, 23, 1978, 9252],\n",
       " [1, 24, 1978, 9416],\n",
       " [1, 25, 1978, 9090],\n",
       " [1, 26, 1978, 9387],\n",
       " [1, 27, 1978, 8983],\n",
       " [1, 28, 1978, 7946],\n",
       " [1, 29, 1978, 7527],\n",
       " [1, 30, 1978, 9184],\n",
       " [1, 31, 1978, 9152],\n",
       " [2, 1, 1978, 9159],\n",
       " [2, 2, 1978, 9218],\n",
       " [2, 3, 1978, 9167],\n",
       " [2, 4, 1978, 8065],\n",
       " [2, 5, 1978, 7804],\n",
       " [2, 6, 1978, 9225],\n",
       " [2, 7, 1978, 9328],\n",
       " [2, 8, 1978, 9139],\n",
       " [2, 9, 1978, 9247],\n",
       " [2, 10, 1978, 9527],\n",
       " [2, 11, 1978, 8144],\n",
       " [2, 12, 1978, 7950],\n",
       " [2, 13, 1978, 8966],\n",
       " [2, 14, 1978, 9859],\n",
       " [2, 15, 1978, 9285],\n",
       " [2, 16, 1978, 9103],\n",
       " [2, 17, 1978, 9238],\n",
       " [2, 18, 1978, 8167],\n",
       " [2, 19, 1978, 7695],\n",
       " [2, 20, 1978, 9021],\n",
       " [2, 21, 1978, 9252],\n",
       " [2, 22, 1978, 9335],\n",
       " [2, 23, 1978, 9268],\n",
       " [2, 24, 1978, 9552],\n",
       " [2, 25, 1978, 8313],\n",
       " [2, 26, 1978, 7881],\n",
       " [2, 27, 1978, 9262],\n",
       " [2, 28, 1978, 9705],\n",
       " [3, 1, 1978, 9132],\n",
       " [3, 2, 1978, 9304],\n",
       " [3, 3, 1978, 9431],\n",
       " [3, 4, 1978, 8008],\n",
       " [3, 5, 1978, 7791],\n",
       " [3, 6, 1978, 9294],\n",
       " [3, 7, 1978, 9573],\n",
       " [3, 8, 1978, 9212],\n",
       " [3, 9, 1978, 9218],\n",
       " [3, 10, 1978, 9583],\n",
       " [3, 11, 1978, 8144],\n",
       " [3, 12, 1978, 7870],\n",
       " [3, 13, 1978, 9022],\n",
       " [3, 14, 1978, 9525],\n",
       " [3, 15, 1978, 9284],\n",
       " [3, 16, 1978, 9327],\n",
       " [3, 17, 1978, 9480],\n",
       " [3, 18, 1978, 7965],\n",
       " [3, 19, 1978, 7729],\n",
       " [3, 20, 1978, 9135],\n",
       " [3, 21, 1978, 9663],\n",
       " [3, 22, 1978, 9307],\n",
       " [3, 23, 1978, 9159],\n",
       " [3, 24, 1978, 9157],\n",
       " [3, 25, 1978, 7874],\n",
       " [3, 26, 1978, 7589],\n",
       " [3, 27, 1978, 9100],\n",
       " [3, 28, 1978, 9293],\n",
       " [3, 29, 1978, 9195],\n",
       " [3, 30, 1978, 8902],\n",
       " [3, 31, 1978, 9318],\n",
       " [4, 1, 1978, 8069],\n",
       " [4, 2, 1978, 7691],\n",
       " [4, 3, 1978, 9114],\n",
       " [4, 4, 1978, 9439],\n",
       " [4, 5, 1978, 8852],\n",
       " [4, 6, 1978, 8969],\n",
       " [4, 7, 1978, 9077],\n",
       " [4, 8, 1978, 7890],\n",
       " [4, 9, 1978, 7445],\n",
       " [4, 10, 1978, 8870],\n",
       " [4, 11, 1978, 9023],\n",
       " [4, 12, 1978, 8606],\n",
       " [4, 13, 1978, 8724],\n",
       " [4, 14, 1978, 9012],\n",
       " [4, 15, 1978, 7527],\n",
       " [4, 16, 1978, 7193],\n",
       " [4, 17, 1978, 8702],\n",
       " [4, 18, 1978, 9205],\n",
       " [4, 19, 1978, 8720],\n",
       " [4, 20, 1978, 8582],\n",
       " [4, 21, 1978, 8892],\n",
       " [4, 22, 1978, 7787],\n",
       " [4, 23, 1978, 7304],\n",
       " [4, 24, 1978, 9017],\n",
       " [4, 25, 1978, 9077],\n",
       " [4, 26, 1978, 9019],\n",
       " [4, 27, 1978, 8839],\n",
       " [4, 28, 1978, 9047],\n",
       " [4, 29, 1978, 7750],\n",
       " [4, 30, 1978, 7135],\n",
       " [5, 1, 1978, 8900],\n",
       " [5, 2, 1978, 9422],\n",
       " [5, 3, 1978, 9051],\n",
       " [5, 4, 1978, 8672],\n",
       " [5, 5, 1978, 9101],\n",
       " [5, 6, 1978, 7718],\n",
       " [5, 7, 1978, 7388],\n",
       " [5, 8, 1978, 8987],\n",
       " [5, 9, 1978, 9307],\n",
       " [5, 10, 1978, 9273],\n",
       " [5, 11, 1978, 8903],\n",
       " [5, 12, 1978, 8975],\n",
       " [5, 13, 1978, 7762],\n",
       " [5, 14, 1978, 7382],\n",
       " [5, 15, 1978, 9195],\n",
       " [5, 16, 1978, 9200],\n",
       " [5, 17, 1978, 8913],\n",
       " [5, 18, 1978, 9044],\n",
       " [5, 19, 1978, 9000],\n",
       " [5, 20, 1978, 8064],\n",
       " [5, 21, 1978, 7570],\n",
       " [5, 22, 1978, 9089],\n",
       " [5, 23, 1978, 9210],\n",
       " [5, 24, 1978, 9196],\n",
       " [5, 25, 1978, 9180],\n",
       " [5, 26, 1978, 9514],\n",
       " [5, 27, 1978, 8005],\n",
       " [5, 28, 1978, 7781],\n",
       " [5, 29, 1978, 7780],\n",
       " [5, 30, 1978, 9630],\n",
       " [5, 31, 1978, 9600],\n",
       " [6, 1, 1978, 9435],\n",
       " [6, 2, 1978, 9303],\n",
       " [6, 3, 1978, 7971],\n",
       " [6, 4, 1978, 7399],\n",
       " [6, 5, 1978, 9127],\n",
       " [6, 6, 1978, 9606],\n",
       " [6, 7, 1978, 9328],\n",
       " [6, 8, 1978, 9075],\n",
       " [6, 9, 1978, 9362],\n",
       " [6, 10, 1978, 8040],\n",
       " [6, 11, 1978, 7581],\n",
       " [6, 12, 1978, 9201],\n",
       " [6, 13, 1978, 9264],\n",
       " [6, 14, 1978, 9216],\n",
       " [6, 15, 1978, 9175],\n",
       " [6, 16, 1978, 9350],\n",
       " [6, 17, 1978, 8233],\n",
       " [6, 18, 1978, 7777],\n",
       " [6, 19, 1978, 9543],\n",
       " [6, 20, 1978, 9672],\n",
       " [6, 21, 1978, 9266],\n",
       " [6, 22, 1978, 9405],\n",
       " [6, 23, 1978, 9598],\n",
       " [6, 24, 1978, 8122],\n",
       " [6, 25, 1978, 8091],\n",
       " [6, 26, 1978, 9348],\n",
       " [6, 27, 1978, 9857],\n",
       " [6, 28, 1978, 9701],\n",
       " [6, 29, 1978, 9630],\n",
       " [6, 30, 1978, 10080],\n",
       " [7, 1, 1978, 8209],\n",
       " [7, 2, 1978, 7976],\n",
       " [7, 3, 1978, 9284],\n",
       " [7, 4, 1978, 8433],\n",
       " [7, 5, 1978, 9675],\n",
       " [7, 6, 1978, 10184],\n",
       " [7, 7, 1978, 10241],\n",
       " [7, 8, 1978, 8773],\n",
       " [7, 9, 1978, 8102],\n",
       " [7, 10, 1978, 9877],\n",
       " [7, 11, 1978, 9852],\n",
       " [7, 12, 1978, 9705],\n",
       " [7, 13, 1978, 9984],\n",
       " [7, 14, 1978, 10438],\n",
       " [7, 15, 1978, 8859],\n",
       " [7, 16, 1978, 8416],\n",
       " [7, 17, 1978, 10026],\n",
       " [7, 18, 1978, 10357],\n",
       " [7, 19, 1978, 10015],\n",
       " [7, 20, 1978, 10386],\n",
       " [7, 21, 1978, 10332],\n",
       " [7, 22, 1978, 9062],\n",
       " [7, 23, 1978, 8563],\n",
       " [7, 24, 1978, 9960],\n",
       " [7, 25, 1978, 10349],\n",
       " [7, 26, 1978, 10091],\n",
       " [7, 27, 1978, 10192],\n",
       " [7, 28, 1978, 10307],\n",
       " [7, 29, 1978, 8677],\n",
       " [7, 30, 1978, 8486],\n",
       " [7, 31, 1978, 9890],\n",
       " [8, 1, 1978, 10145],\n",
       " [8, 2, 1978, 9824],\n",
       " [8, 3, 1978, 10128],\n",
       " [8, 4, 1978, 10051],\n",
       " [8, 5, 1978, 8738],\n",
       " [8, 6, 1978, 8442],\n",
       " [8, 7, 1978, 10206],\n",
       " [8, 8, 1978, 10442],\n",
       " [8, 9, 1978, 10142],\n",
       " [8, 10, 1978, 10284],\n",
       " [8, 11, 1978, 10162],\n",
       " [8, 12, 1978, 8951],\n",
       " [8, 13, 1978, 8532],\n",
       " [8, 14, 1978, 10127],\n",
       " [8, 15, 1978, 10502],\n",
       " [8, 16, 1978, 10053],\n",
       " [8, 17, 1978, 10377],\n",
       " [8, 18, 1978, 10355],\n",
       " [8, 19, 1978, 8904],\n",
       " [8, 20, 1978, 8477],\n",
       " [8, 21, 1978, 9967],\n",
       " [8, 22, 1978, 10229],\n",
       " [8, 23, 1978, 9900],\n",
       " [8, 24, 1978, 10152],\n",
       " [8, 25, 1978, 10173],\n",
       " [8, 26, 1978, 8782],\n",
       " [8, 27, 1978, 8453],\n",
       " [8, 28, 1978, 9998],\n",
       " [8, 29, 1978, 10387],\n",
       " [8, 30, 1978, 10063],\n",
       " [8, 31, 1978, 9849],\n",
       " [9, 1, 1978, 10114],\n",
       " [9, 2, 1978, 8580],\n",
       " [9, 3, 1978, 8355],\n",
       " [9, 4, 1978, 8481],\n",
       " [9, 5, 1978, 10023],\n",
       " [9, 6, 1978, 10703],\n",
       " [9, 7, 1978, 10292],\n",
       " [9, 8, 1978, 10371],\n",
       " [9, 9, 1978, 9023],\n",
       " [9, 10, 1978, 8630],\n",
       " [9, 11, 1978, 10154],\n",
       " [9, 12, 1978, 10425],\n",
       " [9, 13, 1978, 10149],\n",
       " [9, 14, 1978, 10265],\n",
       " [9, 15, 1978, 10265],\n",
       " [9, 16, 1978, 9170],\n",
       " [9, 17, 1978, 8711],\n",
       " [9, 18, 1978, 10304],\n",
       " [9, 19, 1978, 10711],\n",
       " [9, 20, 1978, 10488],\n",
       " [9, 21, 1978, 10499],\n",
       " [9, 22, 1978, 10349],\n",
       " [9, 23, 1978, 8735],\n",
       " [9, 24, 1978, 8647],\n",
       " [9, 25, 1978, 10414],\n",
       " [9, 26, 1978, 10498],\n",
       " [9, 27, 1978, 10344],\n",
       " [9, 28, 1978, 10175],\n",
       " [9, 29, 1978, 10368],\n",
       " [9, 30, 1978, 8648],\n",
       " [10, 1, 1978, 8686],\n",
       " [10, 2, 1978, 9927],\n",
       " [10, 3, 1978, 10378],\n",
       " [10, 4, 1978, 9928],\n",
       " [10, 5, 1978, 9949],\n",
       " [10, 6, 1978, 10052],\n",
       " [10, 7, 1978, 8605],\n",
       " [10, 8, 1978, 8377],\n",
       " [10, 9, 1978, 9765],\n",
       " [10, 10, 1978, 10351],\n",
       " [10, 11, 1978, 9873],\n",
       " [10, 12, 1978, 9824],\n",
       " [10, 13, 1978, 9755],\n",
       " [10, 14, 1978, 8554],\n",
       " [10, 15, 1978, 7873],\n",
       " [10, 16, 1978, 9531],\n",
       " [10, 17, 1978, 9938],\n",
       " [10, 18, 1978, 9388],\n",
       " [10, 19, 1978, 9502],\n",
       " [10, 20, 1978, 9625],\n",
       " [10, 21, 1978, 8411],\n",
       " [10, 22, 1978, 7936],\n",
       " [10, 23, 1978, 9425],\n",
       " [10, 24, 1978, 9576],\n",
       " [10, 25, 1978, 9328],\n",
       " [10, 26, 1978, 9501],\n",
       " [10, 27, 1978, 9537],\n",
       " [10, 28, 1978, 8415],\n",
       " [10, 29, 1978, 8155],\n",
       " [10, 30, 1978, 9457],\n",
       " [10, 31, 1978, 9333],\n",
       " [11, 1, 1978, 9321],\n",
       " [11, 2, 1978, 9245],\n",
       " [11, 3, 1978, 9774],\n",
       " [11, 4, 1978, 8246],\n",
       " [11, 5, 1978, 8011],\n",
       " [11, 6, 1978, 9507],\n",
       " [11, 7, 1978, 9769],\n",
       " [11, 8, 1978, 9501],\n",
       " [11, 9, 1978, 9609],\n",
       " [11, 10, 1978, 9652],\n",
       " [11, 11, 1978, 8352],\n",
       " [11, 12, 1978, 7967],\n",
       " [11, 13, 1978, 9606],\n",
       " [11, 14, 1978, 10014],\n",
       " [11, 15, 1978, 9536],\n",
       " [11, 16, 1978, 9568],\n",
       " [11, 17, 1978, 9835],\n",
       " [11, 18, 1978, 8432],\n",
       " [11, 19, 1978, 7868],\n",
       " [11, 20, 1978, 9592],\n",
       " [11, 21, 1978, 9950],\n",
       " [11, 22, 1978, 9548],\n",
       " [11, 23, 1978, 7915],\n",
       " [11, 24, 1978, 9037],\n",
       " [11, 25, 1978, 8275],\n",
       " [11, 26, 1978, 8068],\n",
       " [11, 27, 1978, 9825],\n",
       " [11, 28, 1978, 9814],\n",
       " [11, 29, 1978, 9438],\n",
       " [11, 30, 1978, 9396],\n",
       " [12, 1, 1978, 9592],\n",
       " [12, 2, 1978, 8528],\n",
       " [12, 3, 1978, 8196],\n",
       " [12, 4, 1978, 9767],\n",
       " [12, 5, 1978, 9881],\n",
       " [12, 6, 1978, 9402],\n",
       " [12, 7, 1978, 9480],\n",
       " [12, 8, 1978, 9398],\n",
       " [12, 9, 1978, 8335],\n",
       " [12, 10, 1978, 8093],\n",
       " [12, 11, 1978, 9686],\n",
       " [12, 12, 1978, 10063],\n",
       " [12, 13, 1978, 9509],\n",
       " [12, 14, 1978, 9524],\n",
       " [12, 15, 1978, 9951],\n",
       " [12, 16, 1978, 8507],\n",
       " [12, 17, 1978, 8172],\n",
       " [12, 18, 1978, 10196],\n",
       " [12, 19, 1978, 10605],\n",
       " [12, 20, 1978, 9998],\n",
       " [12, 21, 1978, 9398],\n",
       " [12, 22, 1978, 9008],\n",
       " [12, 23, 1978, 7939],\n",
       " [12, 24, 1978, 7964],\n",
       " [12, 25, 1978, 7846],\n",
       " [12, 26, 1978, 8902],\n",
       " [12, 27, 1978, 9907],\n",
       " [12, 28, 1978, 10177],\n",
       " [12, 29, 1978, 10401],\n",
       " [12, 30, 1978, 8474],\n",
       " [12, 31, 1978, 8028]]"
      ]
     },
     "execution_count": 316,
     "metadata": {},
     "output_type": "execute_result"
    }
   ],
   "source": [
    "birth_cnt = birth(\"birthdays.txt\")\n",
    "birth_cnt"
   ]
  },
  {
   "cell_type": "markdown",
   "metadata": {},
   "source": [
    "__Exercise 2.2.__ Which month had the most births in 1978? Which day of the week had the most births? Which day of the week had the fewest? What conclusions can you draw? You may find the `Counter` class in the `collections` module useful."
   ]
  },
  {
   "cell_type": "code",
   "execution_count": 317,
   "metadata": {
    "collapsed": false
   },
   "outputs": [],
   "source": [
    "def most_bir(data):\n",
    "    count = []\n",
    "    for j in range(1,13):\n",
    "        bd = [item[3] for item in data if item[0] == j]\n",
    "        count.append(sum(bd))\n",
    "    index = count.index(max(count))\n",
    "    month = index + 1\n",
    "    return month, max(count)"
   ]
  },
  {
   "cell_type": "code",
   "execution_count": 318,
   "metadata": {
    "collapsed": false
   },
   "outputs": [
    {
     "data": {
      "text/plain": [
       "(8, 302795)"
      ]
     },
     "execution_count": 318,
     "metadata": {},
     "output_type": "execute_result"
    }
   ],
   "source": [
    "most_bir(birth_cnt)"
   ]
  },
  {
   "cell_type": "markdown",
   "metadata": {},
   "source": [
    "So the August had the most birth in 1978."
   ]
  },
  {
   "cell_type": "code",
   "execution_count": 319,
   "metadata": {
    "collapsed": true
   },
   "outputs": [],
   "source": [
    "import collections"
   ]
  },
  {
   "cell_type": "code",
   "execution_count": 320,
   "metadata": {
    "collapsed": false
   },
   "outputs": [],
   "source": [
    "bir = birth_cnt"
   ]
  },
  {
   "cell_type": "code",
   "execution_count": 321,
   "metadata": {
    "collapsed": false
   },
   "outputs": [
    {
     "data": {
      "text/plain": [
       "[[1, 1, 1978, 7701, 'Sunday'],\n",
       " [1, 2, 1978, 7527, 'Monday'],\n",
       " [1, 3, 1978, 8825, 'Tuesday'],\n",
       " [1, 4, 1978, 8859, 'Wednesday'],\n",
       " [1, 5, 1978, 9043, 'Thursday'],\n",
       " [1, 6, 1978, 9208, 'Friday'],\n",
       " [1, 7, 1978, 8084, 'Saturday'],\n",
       " [1, 8, 1978, 7611, 'Sunday'],\n",
       " [1, 9, 1978, 9172, 'Monday'],\n",
       " [1, 10, 1978, 9089, 'Tuesday'],\n",
       " [1, 11, 1978, 9210, 'Wednesday'],\n",
       " [1, 12, 1978, 9259, 'Thursday'],\n",
       " [1, 13, 1978, 9138, 'Friday'],\n",
       " [1, 14, 1978, 8299, 'Saturday'],\n",
       " [1, 15, 1978, 7771, 'Sunday'],\n",
       " [1, 16, 1978, 9458, 'Monday'],\n",
       " [1, 17, 1978, 9339, 'Tuesday'],\n",
       " [1, 18, 1978, 9120, 'Wednesday'],\n",
       " [1, 19, 1978, 9226, 'Thursday'],\n",
       " [1, 20, 1978, 9305, 'Friday'],\n",
       " [1, 21, 1978, 7954, 'Saturday'],\n",
       " [1, 22, 1978, 7560, 'Sunday'],\n",
       " [1, 23, 1978, 9252, 'Monday'],\n",
       " [1, 24, 1978, 9416, 'Tuesday'],\n",
       " [1, 25, 1978, 9090, 'Wednesday'],\n",
       " [1, 26, 1978, 9387, 'Thursday'],\n",
       " [1, 27, 1978, 8983, 'Friday'],\n",
       " [1, 28, 1978, 7946, 'Saturday'],\n",
       " [1, 29, 1978, 7527, 'Sunday'],\n",
       " [1, 30, 1978, 9184, 'Monday'],\n",
       " [1, 31, 1978, 9152, 'Tuesday'],\n",
       " [2, 1, 1978, 9159, 'Wednesday'],\n",
       " [2, 2, 1978, 9218, 'Thursday'],\n",
       " [2, 3, 1978, 9167, 'Friday'],\n",
       " [2, 4, 1978, 8065, 'Saturday'],\n",
       " [2, 5, 1978, 7804, 'Sunday'],\n",
       " [2, 6, 1978, 9225, 'Monday'],\n",
       " [2, 7, 1978, 9328, 'Tuesday'],\n",
       " [2, 8, 1978, 9139, 'Wednesday'],\n",
       " [2, 9, 1978, 9247, 'Thursday'],\n",
       " [2, 10, 1978, 9527, 'Friday'],\n",
       " [2, 11, 1978, 8144, 'Saturday'],\n",
       " [2, 12, 1978, 7950, 'Sunday'],\n",
       " [2, 13, 1978, 8966, 'Monday'],\n",
       " [2, 14, 1978, 9859, 'Tuesday'],\n",
       " [2, 15, 1978, 9285, 'Wednesday'],\n",
       " [2, 16, 1978, 9103, 'Thursday'],\n",
       " [2, 17, 1978, 9238, 'Friday'],\n",
       " [2, 18, 1978, 8167, 'Saturday'],\n",
       " [2, 19, 1978, 7695, 'Sunday'],\n",
       " [2, 20, 1978, 9021, 'Monday'],\n",
       " [2, 21, 1978, 9252, 'Tuesday'],\n",
       " [2, 22, 1978, 9335, 'Wednesday'],\n",
       " [2, 23, 1978, 9268, 'Thursday'],\n",
       " [2, 24, 1978, 9552, 'Friday'],\n",
       " [2, 25, 1978, 8313, 'Saturday'],\n",
       " [2, 26, 1978, 7881, 'Sunday'],\n",
       " [2, 27, 1978, 9262, 'Monday'],\n",
       " [2, 28, 1978, 9705, 'Tuesday'],\n",
       " [3, 1, 1978, 9132, 'Wednesday'],\n",
       " [3, 2, 1978, 9304, 'Thursday'],\n",
       " [3, 3, 1978, 9431, 'Friday'],\n",
       " [3, 4, 1978, 8008, 'Saturday'],\n",
       " [3, 5, 1978, 7791, 'Sunday'],\n",
       " [3, 6, 1978, 9294, 'Monday'],\n",
       " [3, 7, 1978, 9573, 'Tuesday'],\n",
       " [3, 8, 1978, 9212, 'Wednesday'],\n",
       " [3, 9, 1978, 9218, 'Thursday'],\n",
       " [3, 10, 1978, 9583, 'Friday'],\n",
       " [3, 11, 1978, 8144, 'Saturday'],\n",
       " [3, 12, 1978, 7870, 'Sunday'],\n",
       " [3, 13, 1978, 9022, 'Monday'],\n",
       " [3, 14, 1978, 9525, 'Tuesday'],\n",
       " [3, 15, 1978, 9284, 'Wednesday'],\n",
       " [3, 16, 1978, 9327, 'Thursday'],\n",
       " [3, 17, 1978, 9480, 'Friday'],\n",
       " [3, 18, 1978, 7965, 'Saturday'],\n",
       " [3, 19, 1978, 7729, 'Sunday'],\n",
       " [3, 20, 1978, 9135, 'Monday'],\n",
       " [3, 21, 1978, 9663, 'Tuesday'],\n",
       " [3, 22, 1978, 9307, 'Wednesday'],\n",
       " [3, 23, 1978, 9159, 'Thursday'],\n",
       " [3, 24, 1978, 9157, 'Friday'],\n",
       " [3, 25, 1978, 7874, 'Saturday'],\n",
       " [3, 26, 1978, 7589, 'Sunday'],\n",
       " [3, 27, 1978, 9100, 'Monday'],\n",
       " [3, 28, 1978, 9293, 'Tuesday'],\n",
       " [3, 29, 1978, 9195, 'Wednesday'],\n",
       " [3, 30, 1978, 8902, 'Thursday'],\n",
       " [3, 31, 1978, 9318, 'Friday'],\n",
       " [4, 1, 1978, 8069, 'Saturday'],\n",
       " [4, 2, 1978, 7691, 'Sunday'],\n",
       " [4, 3, 1978, 9114, 'Monday'],\n",
       " [4, 4, 1978, 9439, 'Tuesday'],\n",
       " [4, 5, 1978, 8852, 'Wednesday'],\n",
       " [4, 6, 1978, 8969, 'Thursday'],\n",
       " [4, 7, 1978, 9077, 'Friday'],\n",
       " [4, 8, 1978, 7890, 'Saturday'],\n",
       " [4, 9, 1978, 7445, 'Sunday'],\n",
       " [4, 10, 1978, 8870, 'Monday'],\n",
       " [4, 11, 1978, 9023, 'Tuesday'],\n",
       " [4, 12, 1978, 8606, 'Wednesday'],\n",
       " [4, 13, 1978, 8724, 'Thursday'],\n",
       " [4, 14, 1978, 9012, 'Friday'],\n",
       " [4, 15, 1978, 7527, 'Saturday'],\n",
       " [4, 16, 1978, 7193, 'Sunday'],\n",
       " [4, 17, 1978, 8702, 'Monday'],\n",
       " [4, 18, 1978, 9205, 'Tuesday'],\n",
       " [4, 19, 1978, 8720, 'Wednesday'],\n",
       " [4, 20, 1978, 8582, 'Thursday'],\n",
       " [4, 21, 1978, 8892, 'Friday'],\n",
       " [4, 22, 1978, 7787, 'Saturday'],\n",
       " [4, 23, 1978, 7304, 'Sunday'],\n",
       " [4, 24, 1978, 9017, 'Monday'],\n",
       " [4, 25, 1978, 9077, 'Tuesday'],\n",
       " [4, 26, 1978, 9019, 'Wednesday'],\n",
       " [4, 27, 1978, 8839, 'Thursday'],\n",
       " [4, 28, 1978, 9047, 'Friday'],\n",
       " [4, 29, 1978, 7750, 'Saturday'],\n",
       " [4, 30, 1978, 7135, 'Sunday'],\n",
       " [5, 1, 1978, 8900, 'Monday'],\n",
       " [5, 2, 1978, 9422, 'Tuesday'],\n",
       " [5, 3, 1978, 9051, 'Wednesday'],\n",
       " [5, 4, 1978, 8672, 'Thursday'],\n",
       " [5, 5, 1978, 9101, 'Friday'],\n",
       " [5, 6, 1978, 7718, 'Saturday'],\n",
       " [5, 7, 1978, 7388, 'Sunday'],\n",
       " [5, 8, 1978, 8987, 'Monday'],\n",
       " [5, 9, 1978, 9307, 'Tuesday'],\n",
       " [5, 10, 1978, 9273, 'Wednesday'],\n",
       " [5, 11, 1978, 8903, 'Thursday'],\n",
       " [5, 12, 1978, 8975, 'Friday'],\n",
       " [5, 13, 1978, 7762, 'Saturday'],\n",
       " [5, 14, 1978, 7382, 'Sunday'],\n",
       " [5, 15, 1978, 9195, 'Monday'],\n",
       " [5, 16, 1978, 9200, 'Tuesday'],\n",
       " [5, 17, 1978, 8913, 'Wednesday'],\n",
       " [5, 18, 1978, 9044, 'Thursday'],\n",
       " [5, 19, 1978, 9000, 'Friday'],\n",
       " [5, 20, 1978, 8064, 'Saturday'],\n",
       " [5, 21, 1978, 7570, 'Sunday'],\n",
       " [5, 22, 1978, 9089, 'Monday'],\n",
       " [5, 23, 1978, 9210, 'Tuesday'],\n",
       " [5, 24, 1978, 9196, 'Wednesday'],\n",
       " [5, 25, 1978, 9180, 'Thursday'],\n",
       " [5, 26, 1978, 9514, 'Friday'],\n",
       " [5, 27, 1978, 8005, 'Saturday'],\n",
       " [5, 28, 1978, 7781, 'Sunday'],\n",
       " [5, 29, 1978, 7780, 'Monday'],\n",
       " [5, 30, 1978, 9630, 'Tuesday'],\n",
       " [5, 31, 1978, 9600, 'Wednesday'],\n",
       " [6, 1, 1978, 9435, 'Thursday'],\n",
       " [6, 2, 1978, 9303, 'Friday'],\n",
       " [6, 3, 1978, 7971, 'Saturday'],\n",
       " [6, 4, 1978, 7399, 'Sunday'],\n",
       " [6, 5, 1978, 9127, 'Monday'],\n",
       " [6, 6, 1978, 9606, 'Tuesday'],\n",
       " [6, 7, 1978, 9328, 'Wednesday'],\n",
       " [6, 8, 1978, 9075, 'Thursday'],\n",
       " [6, 9, 1978, 9362, 'Friday'],\n",
       " [6, 10, 1978, 8040, 'Saturday'],\n",
       " [6, 11, 1978, 7581, 'Sunday'],\n",
       " [6, 12, 1978, 9201, 'Monday'],\n",
       " [6, 13, 1978, 9264, 'Tuesday'],\n",
       " [6, 14, 1978, 9216, 'Wednesday'],\n",
       " [6, 15, 1978, 9175, 'Thursday'],\n",
       " [6, 16, 1978, 9350, 'Friday'],\n",
       " [6, 17, 1978, 8233, 'Saturday'],\n",
       " [6, 18, 1978, 7777, 'Sunday'],\n",
       " [6, 19, 1978, 9543, 'Monday'],\n",
       " [6, 20, 1978, 9672, 'Tuesday'],\n",
       " [6, 21, 1978, 9266, 'Wednesday'],\n",
       " [6, 22, 1978, 9405, 'Thursday'],\n",
       " [6, 23, 1978, 9598, 'Friday'],\n",
       " [6, 24, 1978, 8122, 'Saturday'],\n",
       " [6, 25, 1978, 8091, 'Sunday'],\n",
       " [6, 26, 1978, 9348, 'Monday'],\n",
       " [6, 27, 1978, 9857, 'Tuesday'],\n",
       " [6, 28, 1978, 9701, 'Wednesday'],\n",
       " [6, 29, 1978, 9630, 'Thursday'],\n",
       " [6, 30, 1978, 10080, 'Friday'],\n",
       " [7, 1, 1978, 8209, 'Saturday'],\n",
       " [7, 2, 1978, 7976, 'Sunday'],\n",
       " [7, 3, 1978, 9284, 'Monday'],\n",
       " [7, 4, 1978, 8433, 'Tuesday'],\n",
       " [7, 5, 1978, 9675, 'Wednesday'],\n",
       " [7, 6, 1978, 10184, 'Thursday'],\n",
       " [7, 7, 1978, 10241, 'Friday'],\n",
       " [7, 8, 1978, 8773, 'Saturday'],\n",
       " [7, 9, 1978, 8102, 'Sunday'],\n",
       " [7, 10, 1978, 9877, 'Monday'],\n",
       " [7, 11, 1978, 9852, 'Tuesday'],\n",
       " [7, 12, 1978, 9705, 'Wednesday'],\n",
       " [7, 13, 1978, 9984, 'Thursday'],\n",
       " [7, 14, 1978, 10438, 'Friday'],\n",
       " [7, 15, 1978, 8859, 'Saturday'],\n",
       " [7, 16, 1978, 8416, 'Sunday'],\n",
       " [7, 17, 1978, 10026, 'Monday'],\n",
       " [7, 18, 1978, 10357, 'Tuesday'],\n",
       " [7, 19, 1978, 10015, 'Wednesday'],\n",
       " [7, 20, 1978, 10386, 'Thursday'],\n",
       " [7, 21, 1978, 10332, 'Friday'],\n",
       " [7, 22, 1978, 9062, 'Saturday'],\n",
       " [7, 23, 1978, 8563, 'Sunday'],\n",
       " [7, 24, 1978, 9960, 'Monday'],\n",
       " [7, 25, 1978, 10349, 'Tuesday'],\n",
       " [7, 26, 1978, 10091, 'Wednesday'],\n",
       " [7, 27, 1978, 10192, 'Thursday'],\n",
       " [7, 28, 1978, 10307, 'Friday'],\n",
       " [7, 29, 1978, 8677, 'Saturday'],\n",
       " [7, 30, 1978, 8486, 'Sunday'],\n",
       " [7, 31, 1978, 9890, 'Monday'],\n",
       " [8, 1, 1978, 10145, 'Tuesday'],\n",
       " [8, 2, 1978, 9824, 'Wednesday'],\n",
       " [8, 3, 1978, 10128, 'Thursday'],\n",
       " [8, 4, 1978, 10051, 'Friday'],\n",
       " [8, 5, 1978, 8738, 'Saturday'],\n",
       " [8, 6, 1978, 8442, 'Sunday'],\n",
       " [8, 7, 1978, 10206, 'Monday'],\n",
       " [8, 8, 1978, 10442, 'Tuesday'],\n",
       " [8, 9, 1978, 10142, 'Wednesday'],\n",
       " [8, 10, 1978, 10284, 'Thursday'],\n",
       " [8, 11, 1978, 10162, 'Friday'],\n",
       " [8, 12, 1978, 8951, 'Saturday'],\n",
       " [8, 13, 1978, 8532, 'Sunday'],\n",
       " [8, 14, 1978, 10127, 'Monday'],\n",
       " [8, 15, 1978, 10502, 'Tuesday'],\n",
       " [8, 16, 1978, 10053, 'Wednesday'],\n",
       " [8, 17, 1978, 10377, 'Thursday'],\n",
       " [8, 18, 1978, 10355, 'Friday'],\n",
       " [8, 19, 1978, 8904, 'Saturday'],\n",
       " [8, 20, 1978, 8477, 'Sunday'],\n",
       " [8, 21, 1978, 9967, 'Monday'],\n",
       " [8, 22, 1978, 10229, 'Tuesday'],\n",
       " [8, 23, 1978, 9900, 'Wednesday'],\n",
       " [8, 24, 1978, 10152, 'Thursday'],\n",
       " [8, 25, 1978, 10173, 'Friday'],\n",
       " [8, 26, 1978, 8782, 'Saturday'],\n",
       " [8, 27, 1978, 8453, 'Sunday'],\n",
       " [8, 28, 1978, 9998, 'Monday'],\n",
       " [8, 29, 1978, 10387, 'Tuesday'],\n",
       " [8, 30, 1978, 10063, 'Wednesday'],\n",
       " [8, 31, 1978, 9849, 'Thursday'],\n",
       " [9, 1, 1978, 10114, 'Friday'],\n",
       " [9, 2, 1978, 8580, 'Saturday'],\n",
       " [9, 3, 1978, 8355, 'Sunday'],\n",
       " [9, 4, 1978, 8481, 'Monday'],\n",
       " [9, 5, 1978, 10023, 'Tuesday'],\n",
       " [9, 6, 1978, 10703, 'Wednesday'],\n",
       " [9, 7, 1978, 10292, 'Thursday'],\n",
       " [9, 8, 1978, 10371, 'Friday'],\n",
       " [9, 9, 1978, 9023, 'Saturday'],\n",
       " [9, 10, 1978, 8630, 'Sunday'],\n",
       " [9, 11, 1978, 10154, 'Monday'],\n",
       " [9, 12, 1978, 10425, 'Tuesday'],\n",
       " [9, 13, 1978, 10149, 'Wednesday'],\n",
       " [9, 14, 1978, 10265, 'Thursday'],\n",
       " [9, 15, 1978, 10265, 'Friday'],\n",
       " [9, 16, 1978, 9170, 'Saturday'],\n",
       " [9, 17, 1978, 8711, 'Sunday'],\n",
       " [9, 18, 1978, 10304, 'Monday'],\n",
       " [9, 19, 1978, 10711, 'Tuesday'],\n",
       " [9, 20, 1978, 10488, 'Wednesday'],\n",
       " [9, 21, 1978, 10499, 'Thursday'],\n",
       " [9, 22, 1978, 10349, 'Friday'],\n",
       " [9, 23, 1978, 8735, 'Saturday'],\n",
       " [9, 24, 1978, 8647, 'Sunday'],\n",
       " [9, 25, 1978, 10414, 'Monday'],\n",
       " [9, 26, 1978, 10498, 'Tuesday'],\n",
       " [9, 27, 1978, 10344, 'Wednesday'],\n",
       " [9, 28, 1978, 10175, 'Thursday'],\n",
       " [9, 29, 1978, 10368, 'Friday'],\n",
       " [9, 30, 1978, 8648, 'Saturday'],\n",
       " [10, 1, 1978, 8686, 'Sunday'],\n",
       " [10, 2, 1978, 9927, 'Monday'],\n",
       " [10, 3, 1978, 10378, 'Tuesday'],\n",
       " [10, 4, 1978, 9928, 'Wednesday'],\n",
       " [10, 5, 1978, 9949, 'Thursday'],\n",
       " [10, 6, 1978, 10052, 'Friday'],\n",
       " [10, 7, 1978, 8605, 'Saturday'],\n",
       " [10, 8, 1978, 8377, 'Sunday'],\n",
       " [10, 9, 1978, 9765, 'Monday'],\n",
       " [10, 10, 1978, 10351, 'Tuesday'],\n",
       " [10, 11, 1978, 9873, 'Wednesday'],\n",
       " [10, 12, 1978, 9824, 'Thursday'],\n",
       " [10, 13, 1978, 9755, 'Friday'],\n",
       " [10, 14, 1978, 8554, 'Saturday'],\n",
       " [10, 15, 1978, 7873, 'Sunday'],\n",
       " [10, 16, 1978, 9531, 'Monday'],\n",
       " [10, 17, 1978, 9938, 'Tuesday'],\n",
       " [10, 18, 1978, 9388, 'Wednesday'],\n",
       " [10, 19, 1978, 9502, 'Thursday'],\n",
       " [10, 20, 1978, 9625, 'Friday'],\n",
       " [10, 21, 1978, 8411, 'Saturday'],\n",
       " [10, 22, 1978, 7936, 'Sunday'],\n",
       " [10, 23, 1978, 9425, 'Monday'],\n",
       " [10, 24, 1978, 9576, 'Tuesday'],\n",
       " [10, 25, 1978, 9328, 'Wednesday'],\n",
       " [10, 26, 1978, 9501, 'Thursday'],\n",
       " [10, 27, 1978, 9537, 'Friday'],\n",
       " [10, 28, 1978, 8415, 'Saturday'],\n",
       " [10, 29, 1978, 8155, 'Sunday'],\n",
       " [10, 30, 1978, 9457, 'Monday'],\n",
       " [10, 31, 1978, 9333, 'Tuesday'],\n",
       " [11, 1, 1978, 9321, 'Wednesday'],\n",
       " [11, 2, 1978, 9245, 'Thursday'],\n",
       " [11, 3, 1978, 9774, 'Friday'],\n",
       " [11, 4, 1978, 8246, 'Saturday'],\n",
       " [11, 5, 1978, 8011, 'Sunday'],\n",
       " [11, 6, 1978, 9507, 'Monday'],\n",
       " [11, 7, 1978, 9769, 'Tuesday'],\n",
       " [11, 8, 1978, 9501, 'Wednesday'],\n",
       " [11, 9, 1978, 9609, 'Thursday'],\n",
       " [11, 10, 1978, 9652, 'Friday'],\n",
       " [11, 11, 1978, 8352, 'Saturday'],\n",
       " [11, 12, 1978, 7967, 'Sunday'],\n",
       " [11, 13, 1978, 9606, 'Monday'],\n",
       " [11, 14, 1978, 10014, 'Tuesday'],\n",
       " [11, 15, 1978, 9536, 'Wednesday'],\n",
       " [11, 16, 1978, 9568, 'Thursday'],\n",
       " [11, 17, 1978, 9835, 'Friday'],\n",
       " [11, 18, 1978, 8432, 'Saturday'],\n",
       " [11, 19, 1978, 7868, 'Sunday'],\n",
       " [11, 20, 1978, 9592, 'Monday'],\n",
       " [11, 21, 1978, 9950, 'Tuesday'],\n",
       " [11, 22, 1978, 9548, 'Wednesday'],\n",
       " [11, 23, 1978, 7915, 'Thursday'],\n",
       " [11, 24, 1978, 9037, 'Friday'],\n",
       " [11, 25, 1978, 8275, 'Saturday'],\n",
       " [11, 26, 1978, 8068, 'Sunday'],\n",
       " [11, 27, 1978, 9825, 'Monday'],\n",
       " [11, 28, 1978, 9814, 'Tuesday'],\n",
       " [11, 29, 1978, 9438, 'Wednesday'],\n",
       " [11, 30, 1978, 9396, 'Thursday'],\n",
       " [12, 1, 1978, 9592, 'Friday'],\n",
       " [12, 2, 1978, 8528, 'Saturday'],\n",
       " [12, 3, 1978, 8196, 'Sunday'],\n",
       " [12, 4, 1978, 9767, 'Monday'],\n",
       " [12, 5, 1978, 9881, 'Tuesday'],\n",
       " [12, 6, 1978, 9402, 'Wednesday'],\n",
       " [12, 7, 1978, 9480, 'Thursday'],\n",
       " [12, 8, 1978, 9398, 'Friday'],\n",
       " [12, 9, 1978, 8335, 'Saturday'],\n",
       " [12, 10, 1978, 8093, 'Sunday'],\n",
       " [12, 11, 1978, 9686, 'Monday'],\n",
       " [12, 12, 1978, 10063, 'Tuesday'],\n",
       " [12, 13, 1978, 9509, 'Wednesday'],\n",
       " [12, 14, 1978, 9524, 'Thursday'],\n",
       " [12, 15, 1978, 9951, 'Friday'],\n",
       " [12, 16, 1978, 8507, 'Saturday'],\n",
       " [12, 17, 1978, 8172, 'Sunday'],\n",
       " [12, 18, 1978, 10196, 'Monday'],\n",
       " [12, 19, 1978, 10605, 'Tuesday'],\n",
       " [12, 20, 1978, 9998, 'Wednesday'],\n",
       " [12, 21, 1978, 9398, 'Thursday'],\n",
       " [12, 22, 1978, 9008, 'Friday'],\n",
       " [12, 23, 1978, 7939, 'Saturday'],\n",
       " [12, 24, 1978, 7964, 'Sunday'],\n",
       " [12, 25, 1978, 7846, 'Monday'],\n",
       " [12, 26, 1978, 8902, 'Tuesday'],\n",
       " [12, 27, 1978, 9907, 'Wednesday'],\n",
       " [12, 28, 1978, 10177, 'Thursday'],\n",
       " [12, 29, 1978, 10401, 'Friday'],\n",
       " [12, 30, 1978, 8474, 'Saturday'],\n",
       " [12, 31, 1978, 8028, 'Sunday']]"
      ]
     },
     "execution_count": 321,
     "metadata": {},
     "output_type": "execute_result"
    }
   ],
   "source": [
    "for s in bir:\n",
    "    s.append(cal_days(s[1],s[0],s[2]))\n",
    "bir   "
   ]
  },
  {
   "cell_type": "code",
   "execution_count": 322,
   "metadata": {
    "collapsed": false
   },
   "outputs": [
    {
     "name": "stdout",
     "output_type": "stream",
     "text": [
      "Counter({'Tuesday': 504858, 'Friday': 500541, 'Wednesday': 493897, 'Thursday': 493149, 'Monday': 487309, 'Saturday': 432085, 'Sunday': 421400})\n"
     ]
    }
   ],
   "source": [
    "c = collections.Counter()\n",
    "for s in bir:\n",
    "    c.update({s[4]:s[3]})\n",
    "print c"
   ]
  },
  {
   "cell_type": "markdown",
   "metadata": {},
   "source": [
    "According to the result, Tuesday has the most births, Sunday has the fewest births. There is no obvious pattern from the result."
   ]
  },
  {
   "cell_type": "markdown",
   "metadata": {},
   "source": [
    "__Exercise 2.3.__ What would be an effective way to present the information in exercise 2.2? You don't need to write any code for this exercise, just discuss what you would do."
   ]
  },
  {
   "cell_type": "markdown",
   "metadata": {},
   "source": [
    "The effective way is ploting a histogram to present to information."
   ]
  }
 ],
 "metadata": {
  "anaconda-cloud": {},
  "kernelspec": {
   "display_name": "Python [default]",
   "language": "python",
   "name": "python2"
  },
  "language_info": {
   "codemirror_mode": {
    "name": "ipython",
    "version": 2
   },
   "file_extension": ".py",
   "mimetype": "text/x-python",
   "name": "python",
   "nbconvert_exporter": "python",
   "pygments_lexer": "ipython2",
   "version": "2.7.12"
  }
 },
 "nbformat": 4,
 "nbformat_minor": 2
}
